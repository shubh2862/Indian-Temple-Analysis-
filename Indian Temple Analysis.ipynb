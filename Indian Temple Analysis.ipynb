{
 "cells": [
  {
   "cell_type": "code",
   "execution_count": 1,
   "metadata": {},
   "outputs": [],
   "source": [
    "import pandas as pd\n",
    "import numpy as np\n",
    "import matplotlib.pyplot as plt\n",
    "import seaborn as sns\n"
   ]
  },
  {
   "cell_type": "code",
   "execution_count": 2,
   "metadata": {},
   "outputs": [],
   "source": [
    "temple_data = pd.read_csv(\"NewAncientTemples.csv\")"
   ]
  },
  {
   "cell_type": "code",
   "execution_count": 4,
   "metadata": {},
   "outputs": [
    {
     "data": {
      "text/html": [
       "<div>\n",
       "<style scoped>\n",
       "    .dataframe tbody tr th:only-of-type {\n",
       "        vertical-align: middle;\n",
       "    }\n",
       "\n",
       "    .dataframe tbody tr th {\n",
       "        vertical-align: top;\n",
       "    }\n",
       "\n",
       "    .dataframe thead th {\n",
       "        text-align: right;\n",
       "    }\n",
       "</style>\n",
       "<table border=\"1\" class=\"dataframe\">\n",
       "  <thead>\n",
       "    <tr style=\"text-align: right;\">\n",
       "      <th></th>\n",
       "      <th>templeName</th>\n",
       "      <th>Description</th>\n",
       "      <th>Location</th>\n",
       "      <th>Coordinates</th>\n",
       "      <th>DistanceFromMumbai(Km)</th>\n",
       "      <th>DistanceFromNewDelhi(Km)</th>\n",
       "      <th>DistanceFromChennai(Km)</th>\n",
       "      <th>DistanceFromKolkata(Km)</th>\n",
       "    </tr>\n",
       "  </thead>\n",
       "  <tbody>\n",
       "    <tr>\n",
       "      <th>48</th>\n",
       "      <td>Brihadeshwara Temple | Thanjavur, Tamil Nadu</td>\n",
       "      <td>The Brihadeshwara Temple is a masterpiece and ...</td>\n",
       "      <td>Thanjavur</td>\n",
       "      <td>(10.7860267, 79.1381497)</td>\n",
       "      <td>1137.587824</td>\n",
       "      <td>1983.899883</td>\n",
       "      <td>282.501204</td>\n",
       "      <td>1629.496644</td>\n",
       "    </tr>\n",
       "    <tr>\n",
       "      <th>49</th>\n",
       "      <td>Chennakesava Temple | Belur, Karnataka</td>\n",
       "      <td>A stunner from the Hoysala period, the Chennak...</td>\n",
       "      <td>Belur</td>\n",
       "      <td>(22.6357323, 88.3398223)</td>\n",
       "      <td>1655.768411</td>\n",
       "      <td>1298.336126</td>\n",
       "      <td>1359.013182</td>\n",
       "      <td>10.604555</td>\n",
       "    </tr>\n",
       "    <tr>\n",
       "      <th>50</th>\n",
       "      <td>Thillai Nataraja Temple | Chidambaram, Tamil Nadu</td>\n",
       "      <td>The Chidambaram Temple is dedicated to Lord Sh...</td>\n",
       "      <td>Chidambaram</td>\n",
       "      <td>(11.41018075, 79.67222017841891)</td>\n",
       "      <td>1118.630771</td>\n",
       "      <td>1921.816741</td>\n",
       "      <td>196.229639</td>\n",
       "      <td>1539.369798</td>\n",
       "    </tr>\n",
       "    <tr>\n",
       "      <th>51</th>\n",
       "      <td>Annamalaiyer Temple | Thiruvannamalai, Tamil Nadu</td>\n",
       "      <td>Located at the base of Annamalai Hills in Thir...</td>\n",
       "      <td>Thiruvannamalai</td>\n",
       "      <td>(9.539867, 77.6197904)</td>\n",
       "      <td>1172.319138</td>\n",
       "      <td>2111.952088</td>\n",
       "      <td>487.198055</td>\n",
       "      <td>1839.342146</td>\n",
       "    </tr>\n",
       "    <tr>\n",
       "      <th>52</th>\n",
       "      <td>Kailashanatha Temple | Kanchipuram, Tamil Nadu</td>\n",
       "      <td>Built under the patronage of the Pallava ruler...</td>\n",
       "      <td>Kanchipuram</td>\n",
       "      <td>(12.836393, 79.7053304)</td>\n",
       "      <td>1005.176537</td>\n",
       "      <td>1765.937298</td>\n",
       "      <td>67.117235</td>\n",
       "      <td>1411.945496</td>\n",
       "    </tr>\n",
       "  </tbody>\n",
       "</table>\n",
       "</div>"
      ],
      "text/plain": [
       "                                           templeName  \\\n",
       "48       Brihadeshwara Temple | Thanjavur, Tamil Nadu   \n",
       "49             Chennakesava Temple | Belur, Karnataka   \n",
       "50  Thillai Nataraja Temple | Chidambaram, Tamil Nadu   \n",
       "51  Annamalaiyer Temple | Thiruvannamalai, Tamil Nadu   \n",
       "52     Kailashanatha Temple | Kanchipuram, Tamil Nadu   \n",
       "\n",
       "                                          Description          Location  \\\n",
       "48  The Brihadeshwara Temple is a masterpiece and ...         Thanjavur   \n",
       "49  A stunner from the Hoysala period, the Chennak...             Belur   \n",
       "50  The Chidambaram Temple is dedicated to Lord Sh...       Chidambaram   \n",
       "51  Located at the base of Annamalai Hills in Thir...   Thiruvannamalai   \n",
       "52  Built under the patronage of the Pallava ruler...       Kanchipuram   \n",
       "\n",
       "                         Coordinates  DistanceFromMumbai(Km)  \\\n",
       "48          (10.7860267, 79.1381497)             1137.587824   \n",
       "49          (22.6357323, 88.3398223)             1655.768411   \n",
       "50  (11.41018075, 79.67222017841891)             1118.630771   \n",
       "51            (9.539867, 77.6197904)             1172.319138   \n",
       "52           (12.836393, 79.7053304)             1005.176537   \n",
       "\n",
       "    DistanceFromNewDelhi(Km)  DistanceFromChennai(Km)  DistanceFromKolkata(Km)  \n",
       "48               1983.899883               282.501204              1629.496644  \n",
       "49               1298.336126              1359.013182                10.604555  \n",
       "50               1921.816741               196.229639              1539.369798  \n",
       "51               2111.952088               487.198055              1839.342146  \n",
       "52               1765.937298                67.117235              1411.945496  "
      ]
     },
     "execution_count": 4,
     "metadata": {},
     "output_type": "execute_result"
    }
   ],
   "source": [
    "temple_data.tail()"
   ]
  },
  {
   "cell_type": "code",
   "execution_count": 5,
   "metadata": {},
   "outputs": [
    {
     "data": {
      "text/plain": [
       "(53, 8)"
      ]
     },
     "execution_count": 5,
     "metadata": {},
     "output_type": "execute_result"
    }
   ],
   "source": [
    "temple_data.shape"
   ]
  },
  {
   "cell_type": "code",
   "execution_count": 6,
   "metadata": {},
   "outputs": [
    {
     "data": {
      "text/plain": [
       "Index(['templeName', 'Description', 'Location', 'Coordinates',\n",
       "       'DistanceFromMumbai(Km)', 'DistanceFromNewDelhi(Km)',\n",
       "       'DistanceFromChennai(Km)', 'DistanceFromKolkata(Km)'],\n",
       "      dtype='object')"
      ]
     },
     "execution_count": 6,
     "metadata": {},
     "output_type": "execute_result"
    }
   ],
   "source": [
    "temple_data.columns"
   ]
  },
  {
   "cell_type": "code",
   "execution_count": 7,
   "metadata": {},
   "outputs": [
    {
     "name": "stdout",
     "output_type": "stream",
     "text": [
      "<class 'pandas.core.frame.DataFrame'>\n",
      "RangeIndex: 53 entries, 0 to 52\n",
      "Data columns (total 8 columns):\n",
      " #   Column                    Non-Null Count  Dtype  \n",
      "---  ------                    --------------  -----  \n",
      " 0   templeName                53 non-null     object \n",
      " 1   Description               53 non-null     object \n",
      " 2   Location                  52 non-null     object \n",
      " 3   Coordinates               53 non-null     object \n",
      " 4   DistanceFromMumbai(Km)    53 non-null     float64\n",
      " 5   DistanceFromNewDelhi(Km)  53 non-null     float64\n",
      " 6   DistanceFromChennai(Km)   53 non-null     float64\n",
      " 7   DistanceFromKolkata(Km)   53 non-null     float64\n",
      "dtypes: float64(4), object(4)\n",
      "memory usage: 3.4+ KB\n"
     ]
    }
   ],
   "source": [
    "temple_data.info()\n"
   ]
  },
  {
   "cell_type": "code",
   "execution_count": 8,
   "metadata": {},
   "outputs": [
    {
     "data": {
      "text/html": [
       "<div>\n",
       "<style scoped>\n",
       "    .dataframe tbody tr th:only-of-type {\n",
       "        vertical-align: middle;\n",
       "    }\n",
       "\n",
       "    .dataframe tbody tr th {\n",
       "        vertical-align: top;\n",
       "    }\n",
       "\n",
       "    .dataframe thead th {\n",
       "        text-align: right;\n",
       "    }\n",
       "</style>\n",
       "<table border=\"1\" class=\"dataframe\">\n",
       "  <thead>\n",
       "    <tr style=\"text-align: right;\">\n",
       "      <th></th>\n",
       "      <th>DistanceFromMumbai(Km)</th>\n",
       "      <th>DistanceFromNewDelhi(Km)</th>\n",
       "      <th>DistanceFromChennai(Km)</th>\n",
       "      <th>DistanceFromKolkata(Km)</th>\n",
       "    </tr>\n",
       "  </thead>\n",
       "  <tbody>\n",
       "    <tr>\n",
       "      <th>count</th>\n",
       "      <td>53.000000</td>\n",
       "      <td>53.000000</td>\n",
       "      <td>53.000000</td>\n",
       "      <td>53.000000</td>\n",
       "    </tr>\n",
       "    <tr>\n",
       "      <th>mean</th>\n",
       "      <td>1195.137153</td>\n",
       "      <td>1141.181755</td>\n",
       "      <td>1323.089894</td>\n",
       "      <td>1425.414973</td>\n",
       "    </tr>\n",
       "    <tr>\n",
       "      <th>std</th>\n",
       "      <td>844.276632</td>\n",
       "      <td>956.735097</td>\n",
       "      <td>1087.565648</td>\n",
       "      <td>971.889052</td>\n",
       "    </tr>\n",
       "    <tr>\n",
       "      <th>min</th>\n",
       "      <td>0.000000</td>\n",
       "      <td>0.000000</td>\n",
       "      <td>52.010385</td>\n",
       "      <td>0.000000</td>\n",
       "    </tr>\n",
       "    <tr>\n",
       "      <th>25%</th>\n",
       "      <td>851.545156</td>\n",
       "      <td>496.787727</td>\n",
       "      <td>487.198055</td>\n",
       "      <td>1294.937834</td>\n",
       "    </tr>\n",
       "    <tr>\n",
       "      <th>50%</th>\n",
       "      <td>1158.782925</td>\n",
       "      <td>1087.326052</td>\n",
       "      <td>1352.260203</td>\n",
       "      <td>1464.934193</td>\n",
       "    </tr>\n",
       "    <tr>\n",
       "      <th>75%</th>\n",
       "      <td>1405.563660</td>\n",
       "      <td>1668.348726</td>\n",
       "      <td>1797.144168</td>\n",
       "      <td>1671.864818</td>\n",
       "    </tr>\n",
       "    <tr>\n",
       "      <th>max</th>\n",
       "      <td>6345.522996</td>\n",
       "      <td>5987.434545</td>\n",
       "      <td>7374.452960</td>\n",
       "      <td>7275.959203</td>\n",
       "    </tr>\n",
       "  </tbody>\n",
       "</table>\n",
       "</div>"
      ],
      "text/plain": [
       "       DistanceFromMumbai(Km)  DistanceFromNewDelhi(Km)  \\\n",
       "count               53.000000                 53.000000   \n",
       "mean              1195.137153               1141.181755   \n",
       "std                844.276632                956.735097   \n",
       "min                  0.000000                  0.000000   \n",
       "25%                851.545156                496.787727   \n",
       "50%               1158.782925               1087.326052   \n",
       "75%               1405.563660               1668.348726   \n",
       "max               6345.522996               5987.434545   \n",
       "\n",
       "       DistanceFromChennai(Km)  DistanceFromKolkata(Km)  \n",
       "count                53.000000                53.000000  \n",
       "mean               1323.089894              1425.414973  \n",
       "std                1087.565648               971.889052  \n",
       "min                  52.010385                 0.000000  \n",
       "25%                 487.198055              1294.937834  \n",
       "50%                1352.260203              1464.934193  \n",
       "75%                1797.144168              1671.864818  \n",
       "max                7374.452960              7275.959203  "
      ]
     },
     "execution_count": 8,
     "metadata": {},
     "output_type": "execute_result"
    }
   ],
   "source": [
    "temple_data.describe()"
   ]
  },
  {
   "cell_type": "code",
   "execution_count": 9,
   "metadata": {},
   "outputs": [
    {
     "data": {
      "text/plain": [
       "templeName                  0\n",
       "Description                 0\n",
       "Location                    1\n",
       "Coordinates                 0\n",
       "DistanceFromMumbai(Km)      0\n",
       "DistanceFromNewDelhi(Km)    0\n",
       "DistanceFromChennai(Km)     0\n",
       "DistanceFromKolkata(Km)     0\n",
       "dtype: int64"
      ]
     },
     "execution_count": 9,
     "metadata": {},
     "output_type": "execute_result"
    }
   ],
   "source": [
    "temple_data.isnull().sum()\n"
   ]
  },
  {
   "cell_type": "code",
   "execution_count": 10,
   "metadata": {},
   "outputs": [],
   "source": [
    "temple_data = temple_data.dropna()"
   ]
  },
  {
   "cell_type": "code",
   "execution_count": 11,
   "metadata": {},
   "outputs": [
    {
     "data": {
      "text/plain": [
       "False"
      ]
     },
     "execution_count": 11,
     "metadata": {},
     "output_type": "execute_result"
    }
   ],
   "source": [
    "temple_data.isnull().any().any()\n"
   ]
  },
  {
   "cell_type": "code",
   "execution_count": 12,
   "metadata": {},
   "outputs": [],
   "source": [
    "temple_data['State']=temple_data['templeName'].str.split(',',expand=True)[1]\n"
   ]
  },
  {
   "cell_type": "code",
   "execution_count": 13,
   "metadata": {},
   "outputs": [
    {
     "data": {
      "text/plain": [
       "array([' Uttarakhand', ' Uttar Pradesh', ' Punjab', ' Jammu & Kashmir',\n",
       "       ' Delhi', ' Himachal Pradesh', ' Orissa', ' West Bengal', ' Assam',\n",
       "       ' Gujarat', ' Maharashtra', ' Rajasthan', ' Madhya Pradesh',\n",
       "       ' Andhra Pradesh', ' Karnataka', ' Kerala', ' Tamil Nadu'],\n",
       "      dtype=object)"
      ]
     },
     "execution_count": 13,
     "metadata": {},
     "output_type": "execute_result"
    }
   ],
   "source": [
    "temple_data.State.unique()"
   ]
  },
  {
   "cell_type": "code",
   "execution_count": 14,
   "metadata": {},
   "outputs": [
    {
     "data": {
      "text/plain": [
       " Tamil Nadu          9\n",
       " Uttarakhand         7\n",
       " Karnataka           5\n",
       " Delhi               4\n",
       " Orissa              4\n",
       " Jammu & Kashmir     3\n",
       " Gujarat             3\n",
       " Maharashtra         3\n",
       " Rajasthan           3\n",
       " West Bengal         2\n",
       " Madhya Pradesh      2\n",
       " Kerala              2\n",
       " Punjab              1\n",
       " Himachal Pradesh    1\n",
       " Uttar Pradesh       1\n",
       " Andhra Pradesh      1\n",
       " Assam               1\n",
       "Name: State, dtype: int64"
      ]
     },
     "execution_count": 14,
     "metadata": {},
     "output_type": "execute_result"
    }
   ],
   "source": [
    "temple_data.State.value_counts()\n"
   ]
  },
  {
   "cell_type": "code",
   "execution_count": 15,
   "metadata": {},
   "outputs": [
    {
     "name": "stderr",
     "output_type": "stream",
     "text": [
      "C:\\Users\\nigdi\\AppData\\Local\\Packages\\PythonSoftwareFoundation.Python.3.9_qbz5n2kfra8p0\\LocalCache\\local-packages\\Python39\\site-packages\\seaborn\\_decorators.py:36: FutureWarning: Pass the following variable as a keyword arg: x. From version 0.12, the only valid positional argument will be `data`, and passing other arguments without an explicit keyword will result in an error or misinterpretation.\n",
      "  warnings.warn(\n"
     ]
    },
    {
     "data": {
      "image/png": "[encoded data removed]",
      "text/plain": [
       "<Figure size 1080x432 with 1 Axes>"
      ]
     },
     "metadata": {
      "needs_background": "light"
     },
     "output_type": "display_data"
    }
   ],
   "source": [
    "plt.figure(figsize=(15,6))\n",
    "sns.countplot('State', data = temple_data, palette='hls')\n",
    "plt.xticks(rotation = 90)\n",
    "plt.show()"
   ]
  },
  {
   "cell_type": "code",
   "execution_count": 16,
   "metadata": {},
   "outputs": [
    {
     "data": {
      "text/plain": [
       "array([' Badrinath', ' Kedarnath', ' Gangotri', ' Yamunotri', ' Haridwar',\n",
       "       ' Rishikesh', ' Nainital', ' Varanasi', ' Amritsar', ' Pahalgam',\n",
       "       ' Vaishno Devi', ' Srinagar', ' New Delhi', ' Kangra',\n",
       "       ' Bhubaneshwar', ' Puri', ' Kolkata', ' Guwahati', ' Dwarka',\n",
       "       ' Gandhinagar', ' Junagadh', ' Ahmednagar', ' Mumbai', ' Shirdi',\n",
       "       ' Nathdwara', ' Mount Abu', ' Ranakpur', ' Sanchi', ' Khajuraho',\n",
       "       ' Tirumala', ' Hampi', ' Mysore', ' Thiruvananthapuram',\n",
       "       ' Pathanamthitta', ' Srirangam', ' Madurai', ' Rameshwaram',\n",
       "       ' Mahabalipuram', ' Vellore', ' Thanjavur', ' Belur',\n",
       "       ' Chidambaram', ' Thiruvannamalai', ' Kanchipuram'], dtype=object)"
      ]
     },
     "execution_count": 16,
     "metadata": {},
     "output_type": "execute_result"
    }
   ],
   "source": [
    "temple_data.Location.unique()"
   ]
  },
  {
   "cell_type": "code",
   "execution_count": 17,
   "metadata": {},
   "outputs": [
    {
     "data": {
      "text/plain": [
       " New Delhi             4\n",
       " Hampi                 3\n",
       " Bhubaneshwar          3\n",
       " Kolkata               2\n",
       " Badrinath             1\n",
       " Ranakpur              1\n",
       " Sanchi                1\n",
       " Khajuraho             1\n",
       " Tirumala              1\n",
       " Mysore                1\n",
       " Thiruvananthapuram    1\n",
       " Pathanamthitta        1\n",
       " Nathdwara             1\n",
       " Srirangam             1\n",
       " Madurai               1\n",
       " Rameshwaram           1\n",
       " Mahabalipuram         1\n",
       " Vellore               1\n",
       " Thanjavur             1\n",
       " Belur                 1\n",
       " Chidambaram           1\n",
       " Thiruvannamalai       1\n",
       " Mount Abu             1\n",
       " Mumbai                1\n",
       " Shirdi                1\n",
       " Kedarnath             1\n",
       " Gangotri              1\n",
       " Yamunotri             1\n",
       " Haridwar              1\n",
       " Rishikesh             1\n",
       " Nainital              1\n",
       " Varanasi              1\n",
       " Amritsar              1\n",
       " Pahalgam              1\n",
       " Vaishno Devi          1\n",
       " Srinagar              1\n",
       " Kangra                1\n",
       " Puri                  1\n",
       " Guwahati              1\n",
       " Dwarka                1\n",
       " Gandhinagar           1\n",
       " Junagadh              1\n",
       " Ahmednagar            1\n",
       " Kanchipuram           1\n",
       "Name: Location, dtype: int64"
      ]
     },
     "execution_count": 17,
     "metadata": {},
     "output_type": "execute_result"
    }
   ],
   "source": [
    "temple_data.Location.value_counts()"
   ]
  },
  {
   "cell_type": "code",
   "execution_count": 18,
   "metadata": {},
   "outputs": [
    {
     "name": "stderr",
     "output_type": "stream",
     "text": [
      "C:\\Users\\nigdi\\AppData\\Local\\Packages\\PythonSoftwareFoundation.Python.3.9_qbz5n2kfra8p0\\LocalCache\\local-packages\\Python39\\site-packages\\seaborn\\_decorators.py:36: FutureWarning: Pass the following variable as a keyword arg: x. From version 0.12, the only valid positional argument will be `data`, and passing other arguments without an explicit keyword will result in an error or misinterpretation.\n",
      "  warnings.warn(\n"
     ]
    },
    {
     "data": {
      "image/png": "[encoded data removed]",
      "text/plain": [
       "<Figure size 1080x432 with 1 Axes>"
      ]
     },
     "metadata": {
      "needs_background": "light"
     },
     "output_type": "display_data"
    }
   ],
   "source": [
    "plt.figure(figsize=(15,6))\n",
    "sns.countplot(temple_data['Location'], data = temple_data, palette='hls')\n",
    "plt.xticks(rotation = 90)\n",
    "plt.show()"
   ]
  },
  {
   "cell_type": "code",
   "execution_count": 22,
   "metadata": {},
   "outputs": [],
   "source": [
    "def temp(city):\n",
    "    return temple_data.sort_values(by=[city],ignore_index=True).loc[:,['templeName',city]].head(10)"
   ]
  },
  {
   "cell_type": "code",
   "execution_count": 23,
   "metadata": {},
   "outputs": [
    {
     "data": {
      "text/html": [
       "<div>\n",
       "<style scoped>\n",
       "    .dataframe tbody tr th:only-of-type {\n",
       "        vertical-align: middle;\n",
       "    }\n",
       "\n",
       "    .dataframe tbody tr th {\n",
       "        vertical-align: top;\n",
       "    }\n",
       "\n",
       "    .dataframe thead th {\n",
       "        text-align: right;\n",
       "    }\n",
       "</style>\n",
       "<table border=\"1\" class=\"dataframe\">\n",
       "  <thead>\n",
       "    <tr style=\"text-align: right;\">\n",
       "      <th></th>\n",
       "      <th>templeName</th>\n",
       "      <th>DistanceFromNewDelhi(Km)</th>\n",
       "    </tr>\n",
       "  </thead>\n",
       "  <tbody>\n",
       "    <tr>\n",
       "      <th>0</th>\n",
       "      <td>ISKON Temple | New Delhi, Delhi</td>\n",
       "      <td>0.000000</td>\n",
       "    </tr>\n",
       "    <tr>\n",
       "      <th>1</th>\n",
       "      <td>Birla Mandir | New Delhi, Delhi</td>\n",
       "      <td>0.000000</td>\n",
       "    </tr>\n",
       "    <tr>\n",
       "      <th>2</th>\n",
       "      <td>Akshardham Temple | New Delhi, Delhi</td>\n",
       "      <td>0.000000</td>\n",
       "    </tr>\n",
       "    <tr>\n",
       "      <th>3</th>\n",
       "      <td>Lotus Temple | New Delhi, Delhi</td>\n",
       "      <td>0.000000</td>\n",
       "    </tr>\n",
       "    <tr>\n",
       "      <th>4</th>\n",
       "      <td>Har Ki Pauri | Haridwar, Uttarakhand</td>\n",
       "      <td>172.720329</td>\n",
       "    </tr>\n",
       "    <tr>\n",
       "      <th>5</th>\n",
       "      <td>Neelkanth Mahadev Temple | Rishikesh, Uttarakhand</td>\n",
       "      <td>196.212348</td>\n",
       "    </tr>\n",
       "    <tr>\n",
       "      <th>6</th>\n",
       "      <td>Naina Devi Temple | Nainital, Uttarakhand</td>\n",
       "      <td>227.940519</td>\n",
       "    </tr>\n",
       "    <tr>\n",
       "      <th>7</th>\n",
       "      <td>Yamunotri Temple | Yamunotri, Uttarakhand</td>\n",
       "      <td>290.856707</td>\n",
       "    </tr>\n",
       "    <tr>\n",
       "      <th>8</th>\n",
       "      <td>Kedarnath Temple | Kedarnath, Uttarakhand</td>\n",
       "      <td>295.986734</td>\n",
       "    </tr>\n",
       "    <tr>\n",
       "      <th>9</th>\n",
       "      <td>Gangotri Temple | Gangotri, Uttarakhand</td>\n",
       "      <td>312.443007</td>\n",
       "    </tr>\n",
       "  </tbody>\n",
       "</table>\n",
       "</div>"
      ],
      "text/plain": [
       "                                          templeName  DistanceFromNewDelhi(Km)\n",
       "0                    ISKON Temple | New Delhi, Delhi                  0.000000\n",
       "1                    Birla Mandir | New Delhi, Delhi                  0.000000\n",
       "2               Akshardham Temple | New Delhi, Delhi                  0.000000\n",
       "3                    Lotus Temple | New Delhi, Delhi                  0.000000\n",
       "4               Har Ki Pauri | Haridwar, Uttarakhand                172.720329\n",
       "5  Neelkanth Mahadev Temple | Rishikesh, Uttarakhand                196.212348\n",
       "6          Naina Devi Temple | Nainital, Uttarakhand                227.940519\n",
       "7          Yamunotri Temple | Yamunotri, Uttarakhand                290.856707\n",
       "8          Kedarnath Temple | Kedarnath, Uttarakhand                295.986734\n",
       "9            Gangotri Temple | Gangotri, Uttarakhand                312.443007"
      ]
     },
     "execution_count": 23,
     "metadata": {},
     "output_type": "execute_result"
    }
   ],
   "source": [
    "temp('DistanceFromNewDelhi(Km)')\n"
   ]
  },
  {
   "cell_type": "code",
   "execution_count": 24,
   "metadata": {},
   "outputs": [
    {
     "data": {
      "text/html": [
       "<div>\n",
       "<style scoped>\n",
       "    .dataframe tbody tr th:only-of-type {\n",
       "        vertical-align: middle;\n",
       "    }\n",
       "\n",
       "    .dataframe tbody tr th {\n",
       "        vertical-align: top;\n",
       "    }\n",
       "\n",
       "    .dataframe thead th {\n",
       "        text-align: right;\n",
       "    }\n",
       "</style>\n",
       "<table border=\"1\" class=\"dataframe\">\n",
       "  <thead>\n",
       "    <tr style=\"text-align: right;\">\n",
       "      <th></th>\n",
       "      <th>templeName</th>\n",
       "      <th>DistanceFromMumbai(Km)</th>\n",
       "    </tr>\n",
       "  </thead>\n",
       "  <tbody>\n",
       "    <tr>\n",
       "      <th>0</th>\n",
       "      <td>Siddhi Vinayak Temple | Mumbai, Maharashtra</td>\n",
       "      <td>0.000000</td>\n",
       "    </tr>\n",
       "    <tr>\n",
       "      <th>1</th>\n",
       "      <td>Shirdi Sai Baba Temple | Shirdi, Maharashtra</td>\n",
       "      <td>184.432488</td>\n",
       "    </tr>\n",
       "    <tr>\n",
       "      <th>2</th>\n",
       "      <td>Shani Shingnapur | Ahmednagar, Maharashtra</td>\n",
       "      <td>208.615647</td>\n",
       "    </tr>\n",
       "    <tr>\n",
       "      <th>3</th>\n",
       "      <td>Somnath Temple | Junagadh, Gujarat</td>\n",
       "      <td>369.551339</td>\n",
       "    </tr>\n",
       "    <tr>\n",
       "      <th>4</th>\n",
       "      <td>Akshardham Temple | Gandhinagar, Gujarat</td>\n",
       "      <td>459.796830</td>\n",
       "    </tr>\n",
       "    <tr>\n",
       "      <th>5</th>\n",
       "      <td>Dwarkadhish Temple | Dwarka, Gujarat</td>\n",
       "      <td>537.226142</td>\n",
       "    </tr>\n",
       "    <tr>\n",
       "      <th>6</th>\n",
       "      <td>Jain Temple | Ranakpur, Rajasthan</td>\n",
       "      <td>550.464049</td>\n",
       "    </tr>\n",
       "    <tr>\n",
       "      <th>7</th>\n",
       "      <td>Vitthala Temple | Hampi, Karnataka</td>\n",
       "      <td>562.648882</td>\n",
       "    </tr>\n",
       "    <tr>\n",
       "      <th>8</th>\n",
       "      <td>Pattabhirama Temple | Hampi, Karnataka</td>\n",
       "      <td>562.648882</td>\n",
       "    </tr>\n",
       "    <tr>\n",
       "      <th>9</th>\n",
       "      <td>Virupaksha Temple | Hampi, Karnataka</td>\n",
       "      <td>562.648882</td>\n",
       "    </tr>\n",
       "  </tbody>\n",
       "</table>\n",
       "</div>"
      ],
      "text/plain": [
       "                                     templeName  DistanceFromMumbai(Km)\n",
       "0   Siddhi Vinayak Temple | Mumbai, Maharashtra                0.000000\n",
       "1  Shirdi Sai Baba Temple | Shirdi, Maharashtra              184.432488\n",
       "2    Shani Shingnapur | Ahmednagar, Maharashtra              208.615647\n",
       "3            Somnath Temple | Junagadh, Gujarat              369.551339\n",
       "4      Akshardham Temple | Gandhinagar, Gujarat              459.796830\n",
       "5          Dwarkadhish Temple | Dwarka, Gujarat              537.226142\n",
       "6             Jain Temple | Ranakpur, Rajasthan              550.464049\n",
       "7            Vitthala Temple | Hampi, Karnataka              562.648882\n",
       "8        Pattabhirama Temple | Hampi, Karnataka              562.648882\n",
       "9          Virupaksha Temple | Hampi, Karnataka              562.648882"
      ]
     },
     "execution_count": 24,
     "metadata": {},
     "output_type": "execute_result"
    }
   ],
   "source": [
    "temp('DistanceFromMumbai(Km)')"
   ]
  },
  {
   "cell_type": "code",
   "execution_count": 25,
   "metadata": {},
   "outputs": [
    {
     "data": {
      "text/html": [
       "<div>\n",
       "<style scoped>\n",
       "    .dataframe tbody tr th:only-of-type {\n",
       "        vertical-align: middle;\n",
       "    }\n",
       "\n",
       "    .dataframe tbody tr th {\n",
       "        vertical-align: top;\n",
       "    }\n",
       "\n",
       "    .dataframe thead th {\n",
       "        text-align: right;\n",
       "    }\n",
       "</style>\n",
       "<table border=\"1\" class=\"dataframe\">\n",
       "  <thead>\n",
       "    <tr style=\"text-align: right;\">\n",
       "      <th></th>\n",
       "      <th>templeName</th>\n",
       "      <th>DistanceFromChennai(Km)</th>\n",
       "    </tr>\n",
       "  </thead>\n",
       "  <tbody>\n",
       "    <tr>\n",
       "      <th>0</th>\n",
       "      <td>Shore Temple | Mahabalipuram, Tamil Nadu</td>\n",
       "      <td>52.010385</td>\n",
       "    </tr>\n",
       "    <tr>\n",
       "      <th>1</th>\n",
       "      <td>Kailashanatha Temple | Kanchipuram, Tamil Nadu</td>\n",
       "      <td>67.117235</td>\n",
       "    </tr>\n",
       "    <tr>\n",
       "      <th>2</th>\n",
       "      <td>Tirupati Temple (Tirumala Venkateshwara) | Tir...</td>\n",
       "      <td>119.519574</td>\n",
       "    </tr>\n",
       "    <tr>\n",
       "      <th>3</th>\n",
       "      <td>Sripuram Golden Temple | Vellore, Tamil Nadu</td>\n",
       "      <td>141.417934</td>\n",
       "    </tr>\n",
       "    <tr>\n",
       "      <th>4</th>\n",
       "      <td>Thillai Nataraja Temple | Chidambaram, Tamil Nadu</td>\n",
       "      <td>196.229639</td>\n",
       "    </tr>\n",
       "    <tr>\n",
       "      <th>5</th>\n",
       "      <td>Brihadeshwara Temple | Thanjavur, Tamil Nadu</td>\n",
       "      <td>282.501204</td>\n",
       "    </tr>\n",
       "    <tr>\n",
       "      <th>6</th>\n",
       "      <td>Ranganathaswamy Temple | Srirangam, Tamil Nadu</td>\n",
       "      <td>311.612450</td>\n",
       "    </tr>\n",
       "    <tr>\n",
       "      <th>7</th>\n",
       "      <td>Chamundeshwari Temple | Mysore, Karnataka</td>\n",
       "      <td>401.956211</td>\n",
       "    </tr>\n",
       "    <tr>\n",
       "      <th>8</th>\n",
       "      <td>Meenakshi Temple | Madurai, Tamil Nadu</td>\n",
       "      <td>421.088784</td>\n",
       "    </tr>\n",
       "    <tr>\n",
       "      <th>9</th>\n",
       "      <td>Ramanathaswamy Temple | Rameshwaram, Tamil Nadu</td>\n",
       "      <td>433.071552</td>\n",
       "    </tr>\n",
       "  </tbody>\n",
       "</table>\n",
       "</div>"
      ],
      "text/plain": [
       "                                          templeName  DistanceFromChennai(Km)\n",
       "0           Shore Temple | Mahabalipuram, Tamil Nadu                52.010385\n",
       "1     Kailashanatha Temple | Kanchipuram, Tamil Nadu                67.117235\n",
       "2  Tirupati Temple (Tirumala Venkateshwara) | Tir...               119.519574\n",
       "3       Sripuram Golden Temple | Vellore, Tamil Nadu               141.417934\n",
       "4  Thillai Nataraja Temple | Chidambaram, Tamil Nadu               196.229639\n",
       "5       Brihadeshwara Temple | Thanjavur, Tamil Nadu               282.501204\n",
       "6     Ranganathaswamy Temple | Srirangam, Tamil Nadu               311.612450\n",
       "7          Chamundeshwari Temple | Mysore, Karnataka               401.956211\n",
       "8             Meenakshi Temple | Madurai, Tamil Nadu               421.088784\n",
       "9    Ramanathaswamy Temple | Rameshwaram, Tamil Nadu               433.071552"
      ]
     },
     "execution_count": 25,
     "metadata": {},
     "output_type": "execute_result"
    }
   ],
   "source": [
    "temp('DistanceFromChennai(Km)')\n"
   ]
  },
  {
   "cell_type": "code",
   "execution_count": 26,
   "metadata": {},
   "outputs": [
    {
     "data": {
      "text/html": [
       "<div>\n",
       "<style scoped>\n",
       "    .dataframe tbody tr th:only-of-type {\n",
       "        vertical-align: middle;\n",
       "    }\n",
       "\n",
       "    .dataframe tbody tr th {\n",
       "        vertical-align: top;\n",
       "    }\n",
       "\n",
       "    .dataframe thead th {\n",
       "        text-align: right;\n",
       "    }\n",
       "</style>\n",
       "<table border=\"1\" class=\"dataframe\">\n",
       "  <thead>\n",
       "    <tr style=\"text-align: right;\">\n",
       "      <th></th>\n",
       "      <th>templeName</th>\n",
       "      <th>DistanceFromKolkata(Km)</th>\n",
       "    </tr>\n",
       "  </thead>\n",
       "  <tbody>\n",
       "    <tr>\n",
       "      <th>0</th>\n",
       "      <td>Kalighat Kali Temple | Kolkata, West Bengal</td>\n",
       "      <td>0.000000</td>\n",
       "    </tr>\n",
       "    <tr>\n",
       "      <th>1</th>\n",
       "      <td>Dakshineswar Kali Temple | Kolkata, West Bengal</td>\n",
       "      <td>0.000000</td>\n",
       "    </tr>\n",
       "    <tr>\n",
       "      <th>2</th>\n",
       "      <td>Chennakesava Temple | Belur, Karnataka</td>\n",
       "      <td>10.604555</td>\n",
       "    </tr>\n",
       "    <tr>\n",
       "      <th>3</th>\n",
       "      <td>Mukteswar Temple | Bhubaneshwar, Orissa</td>\n",
       "      <td>363.262575</td>\n",
       "    </tr>\n",
       "    <tr>\n",
       "      <th>4</th>\n",
       "      <td>Lingaraj Temple | Bhubaneshwar, Orissa</td>\n",
       "      <td>363.262575</td>\n",
       "    </tr>\n",
       "    <tr>\n",
       "      <th>5</th>\n",
       "      <td>Rajarani Temple | Bhubaneshwar, Orissa</td>\n",
       "      <td>363.262575</td>\n",
       "    </tr>\n",
       "    <tr>\n",
       "      <th>6</th>\n",
       "      <td>Jagannath Temple | Puri, Orissa</td>\n",
       "      <td>400.952316</td>\n",
       "    </tr>\n",
       "    <tr>\n",
       "      <th>7</th>\n",
       "      <td>Kamakhya Temple | Guwahati, Assam</td>\n",
       "      <td>530.247295</td>\n",
       "    </tr>\n",
       "    <tr>\n",
       "      <th>8</th>\n",
       "      <td>Kashi Vishwanath Temple | Varanasi, Uttar Pradesh</td>\n",
       "      <td>626.321884</td>\n",
       "    </tr>\n",
       "    <tr>\n",
       "      <th>9</th>\n",
       "      <td>Khajuraho Temples | Khajuraho, Madhya Pradesh</td>\n",
       "      <td>896.987576</td>\n",
       "    </tr>\n",
       "  </tbody>\n",
       "</table>\n",
       "</div>"
      ],
      "text/plain": [
       "                                          templeName  DistanceFromKolkata(Km)\n",
       "0        Kalighat Kali Temple | Kolkata, West Bengal                 0.000000\n",
       "1    Dakshineswar Kali Temple | Kolkata, West Bengal                 0.000000\n",
       "2             Chennakesava Temple | Belur, Karnataka                10.604555\n",
       "3            Mukteswar Temple | Bhubaneshwar, Orissa               363.262575\n",
       "4             Lingaraj Temple | Bhubaneshwar, Orissa               363.262575\n",
       "5             Rajarani Temple | Bhubaneshwar, Orissa               363.262575\n",
       "6                    Jagannath Temple | Puri, Orissa               400.952316\n",
       "7                  Kamakhya Temple | Guwahati, Assam               530.247295\n",
       "8  Kashi Vishwanath Temple | Varanasi, Uttar Pradesh               626.321884\n",
       "9      Khajuraho Temples | Khajuraho, Madhya Pradesh               896.987576"
      ]
     },
     "execution_count": 26,
     "metadata": {},
     "output_type": "execute_result"
    }
   ],
   "source": [
    "temp('DistanceFromKolkata(Km)')"
   ]
  }
 ],
 "metadata": {
  "kernelspec": {
   "display_name": "Python 3.9.13 64-bit (windows store)",
   "language": "python",
   "name": "python3"
  },
  "language_info": {
   "codemirror_mode": {
    "name": "ipython",
    "version": 3
   },
   "file_extension": ".py",
   "mimetype": "text/x-python",
   "name": "python",
   "nbconvert_exporter": "python",
   "pygments_lexer": "ipython3",
   "version": "3.9.13"
  },
  "orig_nbformat": 4,
  "vscode": {
   "interpreter": {
    "hash": "f5b36eb6063c5de5f4a5f44722e11565d0762fe02341764f2fdf338c94107080"
   }
  }
 },
 "nbformat": 4,
 "nbformat_minor": 2
}
